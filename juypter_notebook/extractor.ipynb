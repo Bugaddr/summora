{
 "cells": [
  {
   "cell_type": "code",
   "execution_count": 2,
   "id": "b83620be-bd6a-420d-b2d5-6de871a729b7",
   "metadata": {},
   "outputs": [
    {
     "name": "stdout",
     "output_type": "stream",
     "text": [
      "Breaking through the built-in protective barriers between users, known as privileges, is possible because the permissions for individual activities are not stored at the same time as the calculations. With special inputs, it is now possible to cause ambiguity in the sequence of events when changing users, resulting in incorrect assignment of privileges. An attacker could exploit this in order to read an information byte (a unit consisting of eight binary 0/1 pieces of information).\n",
      "Unlocking entire contents of memory byte by byte\n",
      "The disclosure of a single byte would be negligible. However, the attack can be repeated in quick succession, allowing the contents of the entire memory to be read over time, explains Rüegge. “We can trigger the error repeatedly and achieve a readout speed of over 5000 bytes per second.” In the event of an attack, therefore, it is only a matter of time before the information in the entire CPU memory falls into the wrong hands.\n",
      "Part of a series of security vulnerabilities\n",
      "The vulnerability that the ETH Zurich researchers have now identified is not the first to be discovered in the speculative CPU technologies introduced in the mid-1990s. In 2017, Spectre and Meltdown were the first two vulnerabilities of this kind to hit the headlines, and new variants have been appearing regularly ever since. Johannes Wikner, a former PhD student in Razavi's group, already identified a vulnerability known as Retbleed back in 2022. He exploited traces of speculatively executed instructions in the CPU’s cache to access information from other users.\n",
      "Suspicious signal reveals vulnerability\n",
      "The starting point for the discovery of the new vulnerability class was work that followed on from the Retbleed investigations. “I examined the functions of the protective measures that Intel had introduced to patch up the Retbleed vulnerability,” says Johannes Wikner.\n",
      "In doing so, he discovered an unusual signal from the cache memory that appeared regardless of whether the protective measures were enabled or disabled. Rüegge then took over detailed analysis of the cause of the signal and, based on this work, was able to uncover the new attack vector.\n",
      "Fundamental architectural problem\n",
      "The vulnerability was discovered back in September 2024. Since then, Intel has implemented protective measures to secure its processors. Nevertheless, there are many indications that the problem is more serious. “The series of newly discovered vulnerabilities in speculative technologies is an indication of fundamental flaws in the architecture,” Razavi points out. “The gaps have to be found one by one and then closed.”\n",
      "Closing these sorts of gaps requires a special update to the processor’s microcode. This can be done via a BIOS or operating system update and should therefore be installed on our PCs in one of the latest cumulative updates from Windows.\n"
     ]
    }
   ],
   "source": [
    "import requests\n",
    "from readability import Document\n",
    "from bs4 import BeautifulSoup\n",
    "\n",
    "def extract_important_text(url):\n",
    "    try:\n",
    "        # Set headers to mimic a real browser\n",
    "        headers = {\n",
    "            'User-Agent': 'Mozilla/5.0 (Windows NT 10.0; Win64; x64) AppleWebKit/537.36 (KHTML, like Gecko) Chrome/91.0.4472.124 Safari/537.36'\n",
    "        }\n",
    "        \n",
    "        # Fetch webpage content\n",
    "        response = requests.get(url, headers=headers, timeout=10)\n",
    "        response.raise_for_status()\n",
    "        \n",
    "        # Use readability to extract main article content\n",
    "        doc = Document(response.text)\n",
    "        article_html = doc.summary()\n",
    "        \n",
    "        # Clean HTML tags and extra whitespace\n",
    "        soup = BeautifulSoup(article_html, 'html.parser')\n",
    "        text = soup.get_text(separator='\\n', strip=True)\n",
    "        \n",
    "        return text\n",
    "    \n",
    "    except requests.exceptions.RequestException as e:\n",
    "        return f\"Error fetching URL: {str(e)}\"\n",
    "    except Exception as e:\n",
    "        return f\"Error processing content: {str(e)}\"\n",
    "\n",
    "# Example usage\n",
    "url = \"https://ethz.ch/en/news-and-events/eth-news/news/2025/05/eth-zurich-researchers-discover-new-security-vulnerability-in-intel-processors.html\"\n",
    "article_text = extract_important_text(url)\n",
    "\n",
    "print(article_text)"
   ]
  },
  {
   "cell_type": "code",
   "execution_count": null,
   "id": "8cf445fe-e770-4694-b803-3e980695cf2a",
   "metadata": {},
   "outputs": [],
   "source": []
  }
 ],
 "metadata": {
  "kernelspec": {
   "display_name": "Python 3 (ipykernel)",
   "language": "python",
   "name": "python3"
  },
  "language_info": {
   "codemirror_mode": {
    "name": "ipython",
    "version": 3
   },
   "file_extension": ".py",
   "mimetype": "text/x-python",
   "name": "python",
   "nbconvert_exporter": "python",
   "pygments_lexer": "ipython3",
   "version": "3.13.3"
  }
 },
 "nbformat": 4,
 "nbformat_minor": 5
}
